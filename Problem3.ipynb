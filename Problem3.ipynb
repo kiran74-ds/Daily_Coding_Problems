{
 "cells": [
  {
   "cell_type": "markdown",
   "metadata": {},
   "source": [
    "This problem was asked by Stripe.\n",
    "\n",
    "Given an array of integers, find the first missing positive integer in linear time and constant space. In other words, find the lowest positive integer that does not exist in the array. The array can contain duplicates and negative numbers as well.\n",
    "\n",
    "For example, the input [3, 4, -1, 1] should give 2. The input [1, 2, 0] should give 3."
   ]
  },
  {
   "cell_type": "code",
   "execution_count": 1,
   "metadata": {},
   "outputs": [],
   "source": [
    "def first_missing_positive(arr):\n",
    "    for i in range(1,len(arr)+1):\n",
    "        if i not in arr:\n",
    "            return i\n",
    "    return len(arr)+1"
   ]
  },
  {
   "cell_type": "code",
   "execution_count": 2,
   "metadata": {},
   "outputs": [],
   "source": [
    "assert(first_missing_positive([])==1)\n",
    "\n",
    "assert(first_missing_positive([3,4,-1,1])==2)\n",
    "\n",
    "assert(first_missing_positive([1,2,0]) == 3)\n",
    "\n",
    "assert(first_missing_positive([-1,-2,0]) == 1)\n",
    "\n",
    "assert(first_missing_positive([1,2,3]) == 4)\n",
    "\n",
    "assert(first_missing_positive([5,6]) == 1)\n",
    "\n",
    "assert(first_missing_positive([5]) == 1)\n",
    "\n",
    "assert(first_missing_positive([0,1,2,3,5]) == 4)\n",
    "\n",
    "assert(first_missing_positive([0,1,2,3,4]) == 5)\n",
    "\n",
    "assert(first_missing_positive(list(range(1,10001))) == 10001)"
   ]
  }
 ],
 "metadata": {
  "kernelspec": {
   "display_name": "Python 3",
   "language": "python",
   "name": "python3"
  },
  "language_info": {
   "codemirror_mode": {
    "name": "ipython",
    "version": 3
   },
   "file_extension": ".py",
   "mimetype": "text/x-python",
   "name": "python",
   "nbconvert_exporter": "python",
   "pygments_lexer": "ipython3",
   "version": "3.7.6"
  }
 },
 "nbformat": 4,
 "nbformat_minor": 4
}
